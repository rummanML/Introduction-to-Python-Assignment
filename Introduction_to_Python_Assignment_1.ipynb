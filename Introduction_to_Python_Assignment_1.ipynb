{
  "nbformat": 4,
  "nbformat_minor": 0,
  "metadata": {
    "colab": {
      "provenance": [],
      "authorship_tag": "ABX9TyN9dw7oaIStiIz+sUm5cWZJ",
      "include_colab_link": true
    },
    "kernelspec": {
      "name": "python3",
      "display_name": "Python 3"
    },
    "language_info": {
      "name": "python"
    }
  },
  "cells": [
    {
      "cell_type": "markdown",
      "metadata": {
        "id": "view-in-github",
        "colab_type": "text"
      },
      "source": [
        "<a href=\"https://colab.research.google.com/github/rummanML/Introduction-to-Python-Assignment/blob/main/Introduction_to_Python_Assignment_1.ipynb\" target=\"_parent\"><img src=\"https://colab.research.google.com/assets/colab-badge.svg\" alt=\"Open In Colab\"/></a>"
      ]
    },
    {
      "cell_type": "markdown",
      "source": [
        "**Pronlem 1 - Solution**"
      ],
      "metadata": {
        "id": "86zD3V8P99dS"
      }
    },
    {
      "cell_type": "code",
      "source": [
        "string = \"google.com\"\n",
        "char_freq = {}\n",
        "\n",
        "# Count the frequency of each character\n",
        "for char in string:\n",
        "    if char in char_freq:\n",
        "        char_freq[char] += 1\n",
        "    else:\n",
        "        char_freq[char] = 1\n",
        "\n",
        "# Print the dictionary of character frequencies\n",
        "print(char_freq)"
      ],
      "metadata": {
        "colab": {
          "base_uri": "https://localhost:8080/"
        },
        "id": "t5aejpWN8xBk",
        "outputId": "b52fb025-083c-432b-d485-c7ecbe988888"
      },
      "execution_count": null,
      "outputs": [
        {
          "output_type": "stream",
          "name": "stdout",
          "text": [
            "{'g': 2, 'o': 3, 'l': 1, 'e': 1, '.': 1, 'c': 1, 'm': 1}\n"
          ]
        }
      ]
    },
    {
      "cell_type": "markdown",
      "source": [
        "**Pronlem 2 - Solution**"
      ],
      "metadata": {
        "id": "BHf3dAcr-GbP"
      }
    },
    {
      "cell_type": "code",
      "source": [
        "# Sample dictionary\n",
        "d = {'a': 1, 'b': 2, 'c': 3}\n",
        "\n",
        "# Check if a key exists in the dictionary\n",
        "key = 'b'\n",
        "if key in d:\n",
        "    print(f\"The key '{key}' exists in the dictionary.\")\n",
        "else:\n",
        "    print(f\"The key '{key}' does not exist in the dictionary.\")\n"
      ],
      "metadata": {
        "colab": {
          "base_uri": "https://localhost:8080/"
        },
        "id": "tR5td81U868M",
        "outputId": "89ea6539-2270-4a3d-d74e-df5042bfc618"
      },
      "execution_count": null,
      "outputs": [
        {
          "output_type": "stream",
          "name": "stdout",
          "text": [
            "The key 'b' exists in the dictionary.\n"
          ]
        }
      ]
    },
    {
      "cell_type": "markdown",
      "source": [
        "**Pronlem 3 - Solution**"
      ],
      "metadata": {
        "id": "pAR3Km0f-IJv"
      }
    },
    {
      "cell_type": "code",
      "source": [
        "# Accept comma-separated numbers from user input\n",
        "num_sequence = input(\"Enter a sequence of comma-separated numbers: \")\n",
        "\n",
        "# Convert the sequence of numbers to a list and tuple\n",
        "num_list = num_sequence.split(',')\n",
        "num_tuple = tuple(num_list)\n",
        "\n",
        "# Print the list and tuple of numbers\n",
        "print(\"List: \", num_list)\n",
        "print(\"Tuple:\", num_tuple)\n"
      ],
      "metadata": {
        "colab": {
          "base_uri": "https://localhost:8080/"
        },
        "id": "OaumzlmN899x",
        "outputId": "769b8af4-2459-4b9d-af5e-da1a45fa3bfa"
      },
      "execution_count": null,
      "outputs": [
        {
          "output_type": "stream",
          "name": "stdout",
          "text": [
            "Enter a sequence of comma-separated numbers: 1, 5, 7. 23\n",
            "List:  ['1', ' 5', ' 7. 23']\n",
            "Tuple: ('1', ' 5', ' 7. 23')\n"
          ]
        }
      ]
    },
    {
      "cell_type": "markdown",
      "source": [
        "**Pronlem 4 - Solution**"
      ],
      "metadata": {
        "id": "S9mJaGYQ-LZz"
      }
    },
    {
      "cell_type": "code",
      "source": [
        "from datetime import date\n",
        "\n",
        "# Define the two dates\n",
        "date1 = date(2014, 7, 2)\n",
        "date2 = date(2014, 7, 11)\n",
        "\n",
        "# Calculate the number of days between the two dates\n",
        "delta = date2 - date1\n",
        "num_days = delta.days\n",
        "\n",
        "# Print the number of days between the two dates\n",
        "print(\"Number of days between\", date1, \"and\", date2, \"is:\", num_days)\n"
      ],
      "metadata": {
        "colab": {
          "base_uri": "https://localhost:8080/"
        },
        "id": "k98jz3g79C6R",
        "outputId": "f81a9238-abb7-40ff-8ef6-e045a4ab905f"
      },
      "execution_count": null,
      "outputs": [
        {
          "output_type": "stream",
          "name": "stdout",
          "text": [
            "Number of days between 2014-07-02 and 2014-07-11 is: 9\n"
          ]
        }
      ]
    },
    {
      "cell_type": "markdown",
      "source": [
        "**Pronlem 5 - Solution**"
      ],
      "metadata": {
        "id": "5_Lth6_T-REj"
      }
    },
    {
      "cell_type": "code",
      "source": [
        "# Define the values of x and y\n",
        "x = 4\n",
        "y = 3\n",
        "\n",
        "# Calculate the result of (x + y) * (x + y)\n",
        "result = (x + y) ** 2\n",
        "\n",
        "# Print the result\n",
        "print(\"({} + {}) ^ 2 = {}\".format(x, y, result))"
      ],
      "metadata": {
        "colab": {
          "base_uri": "https://localhost:8080/"
        },
        "id": "-B5P09un9JLX",
        "outputId": "1a5d6031-fe15-4412-d27a-3fc3f1f2c8fc"
      },
      "execution_count": null,
      "outputs": [
        {
          "output_type": "stream",
          "name": "stdout",
          "text": [
            "(4 + 3) ^ 2 = 49\n"
          ]
        }
      ]
    },
    {
      "cell_type": "markdown",
      "source": [
        "**Pronlem 6 - Solution**"
      ],
      "metadata": {
        "id": "84CZt02y-T43"
      }
    },
    {
      "cell_type": "code",
      "source": [
        "amt = 10000\n",
        "int_rate = 3.5\n",
        "years = 7\n",
        "\n",
        "future_value = amt * (1 + int_rate/100)**years\n",
        "\n",
        "print(\"Future value: \", round(future_value, 2))\n"
      ],
      "metadata": {
        "colab": {
          "base_uri": "https://localhost:8080/"
        },
        "id": "f1jy7wrt9Nbv",
        "outputId": "40998897-673c-461a-d315-1687f41f364d"
      },
      "execution_count": null,
      "outputs": [
        {
          "output_type": "stream",
          "name": "stdout",
          "text": [
            "Future value:  12722.79\n"
          ]
        }
      ]
    },
    {
      "cell_type": "markdown",
      "source": [
        "**Pronlem 7 - Solution**"
      ],
      "metadata": {
        "id": "qbal_B-K-WOM"
      }
    },
    {
      "cell_type": "code",
      "source": [
        "arr = [0,0,1,1,2,2,3,3,4,4,4]\n",
        "\n",
        "# Using set() to remove duplicates\n",
        "unique_nums = list(set(arr))\n",
        "\n",
        "print(\"The list of unique numbers:\", unique_nums)\n",
        "print(\"Length of the unique list:\", len(unique_nums))"
      ],
      "metadata": {
        "colab": {
          "base_uri": "https://localhost:8080/"
        },
        "id": "MnxVkEEh9RG5",
        "outputId": "b5bb9045-0824-4dec-b3af-8f83dcb4483d"
      },
      "execution_count": null,
      "outputs": [
        {
          "output_type": "stream",
          "name": "stdout",
          "text": [
            "The list of unique numbers: [0, 1, 2, 3, 4]\n",
            "Length of the unique list: 5\n"
          ]
        }
      ]
    },
    {
      "cell_type": "code",
      "source": [
        "# Sample dictionary\n",
        "d = {'apple': 3, 'banana': 1, 'cherry': 2}\n",
        "\n",
        "# Sorting dictionary by key in ascending order\n",
        "asc_dict = dict(sorted(d.items()))\n",
        "\n",
        "# Sorting dictionary by key in descending order\n",
        "desc_dict = dict(sorted(d.items(), reverse=True))\n",
        "\n",
        "print(\"Original dictionary:\", d)\n",
        "print(\"Dictionary sorted by key in ascending order:\", asc_dict)\n",
        "print(\"Dictionary sorted by key in descending order:\", desc_dict)"
      ],
      "metadata": {
        "colab": {
          "base_uri": "https://localhost:8080/"
        },
        "id": "nZ_Qro539VgZ",
        "outputId": "bffabf6f-01db-4267-f52e-43fd82bdbcee"
      },
      "execution_count": null,
      "outputs": [
        {
          "output_type": "stream",
          "name": "stdout",
          "text": [
            "Original dictionary: {'apple': 3, 'banana': 1, 'cherry': 2}\n",
            "Dictionary sorted by key in ascending order: {'apple': 3, 'banana': 1, 'cherry': 2}\n",
            "Dictionary sorted by key in descending order: {'cherry': 2, 'banana': 1, 'apple': 3}\n"
          ]
        }
      ]
    },
    {
      "cell_type": "markdown",
      "source": [
        "**Pronlem 8 - Solution**"
      ],
      "metadata": {
        "id": "GzYdi3oO-Y_D"
      }
    },
    {
      "cell_type": "code",
      "source": [
        "# Sample dictionary\n",
        "d = {0: 10, 1: 20}\n",
        "\n",
        "# Adding a new key-value pair to the dictionary\n",
        "d[2] = 30\n",
        "\n",
        "print(\"Original dictionary:\", d)"
      ],
      "metadata": {
        "colab": {
          "base_uri": "https://localhost:8080/"
        },
        "id": "QK9a4oDV9a6i",
        "outputId": "a397c6ed-df31-45b0-f523-a1ccfc929c75"
      },
      "execution_count": null,
      "outputs": [
        {
          "output_type": "stream",
          "name": "stdout",
          "text": [
            "Original dictionary: {0: 10, 1: 20, 2: 30}\n"
          ]
        }
      ]
    },
    {
      "cell_type": "markdown",
      "source": [
        "**Pronlem 9 - Solution**"
      ],
      "metadata": {
        "id": "06kYTvyQ-c4x"
      }
    },
    {
      "cell_type": "code",
      "source": [
        "# Sample dictionary\n",
        "d = {0: 10, 1: 20}\n",
        "\n",
        "# Adding a new key-value pair to the dictionary\n",
        "d[2] = 30\n",
        "\n",
        "print(\"Original dictionary:\", d)"
      ],
      "metadata": {
        "colab": {
          "base_uri": "https://localhost:8080/"
        },
        "id": "cCZ46-9F9ems",
        "outputId": "f9327f40-265a-41ea-d7ba-1ab4c22c1389"
      },
      "execution_count": null,
      "outputs": [
        {
          "output_type": "stream",
          "name": "stdout",
          "text": [
            "Original dictionary: {0: 10, 1: 20, 2: 30}\n"
          ]
        }
      ]
    },
    {
      "cell_type": "markdown",
      "source": [
        "**Pronlem 10 - Solution**"
      ],
      "metadata": {
        "id": "CTD-YLEP-hRX"
      }
    },
    {
      "cell_type": "code",
      "source": [
        "import pandas as pd\n",
        "import numpy as np\n",
        "\n",
        "# Sample dictionary data and index labels\n",
        "exam_data = {'name': ['Arif', 'Asir', 'Arik', 'Anis', 'Anil', 'Ashish', 'Anahi', 'Alia', 'Alvin', 'Asim'],\n",
        "             'score': [12.5, 9, 16.5, np.nan, 9, 20, 14.5, np.nan, 8, 19],\n",
        "             'attempts': [1, 3, 2, 3, 2, 3, 1, 1, 2, 1],\n",
        "             'qualify': ['yes', 'no', 'yes', 'no', 'no', 'yes', 'yes', 'no', 'no', 'yes']}\n",
        "labels = ['a', 'b', 'c', 'd', 'e', 'f', 'g', 'h', 'i', 'j']\n",
        "\n",
        "# Creating a DataFrame from the dictionary with index labels\n",
        "df = pd.DataFrame(exam_data, index=labels)\n",
        "\n",
        "# Displaying the DataFrame\n",
        "print(df)\n"
      ],
      "metadata": {
        "colab": {
          "base_uri": "https://localhost:8080/"
        },
        "id": "4qx61Ghi9jnP",
        "outputId": "9f480f86-f2e5-4e09-a752-f16979dc5456"
      },
      "execution_count": null,
      "outputs": [
        {
          "output_type": "stream",
          "name": "stdout",
          "text": [
            "     name  score  attempts qualify\n",
            "a    Arif   12.5         1     yes\n",
            "b    Asir    9.0         3      no\n",
            "c    Arik   16.5         2     yes\n",
            "d    Anis    NaN         3      no\n",
            "e    Anil    9.0         2      no\n",
            "f  Ashish   20.0         3     yes\n",
            "g   Anahi   14.5         1     yes\n",
            "h    Alia    NaN         1      no\n",
            "i   Alvin    8.0         2      no\n",
            "j    Asim   19.0         1     yes\n"
          ]
        }
      ]
    }
  ]
}